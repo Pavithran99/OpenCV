{
 "cells": [
  {
   "cell_type": "markdown",
   "metadata": {},
   "source": [
    "# OpenCV Tutorial "
   ]
  },
  {
   "cell_type": "code",
   "execution_count": 1,
   "metadata": {},
   "outputs": [],
   "source": [
    "import cv2  #cv2 is the opencv library\n",
    "import matplotlib.pyplot as plt  #this library is for datavisualization\n",
    "import numpy as np   #this contain basic math function"
   ]
  },
  {
   "cell_type": "markdown",
   "metadata": {},
   "source": [
    "## 1.To read and disply the image\n",
    "cv2.imread(path)\n",
    "\n",
    "cv2.imshow(name,variable)"
   ]
  },
  {
   "cell_type": "code",
   "execution_count": 2,
   "metadata": {},
   "outputs": [],
   "source": [
    "img=cv2.imread('test.jpeg')   #to read image "
   ]
  },
  {
   "cell_type": "code",
   "execution_count": 3,
   "metadata": {},
   "outputs": [],
   "source": [
    "cv2.imshow('image', img)   #to show the image\n",
    "\n",
    "cv2.waitKey(0)   #it shows the image untill you press the enter\n",
    "cv2.destroyAllWindows()  #it close all the existing windows"
   ]
  },
  {
   "cell_type": "markdown",
   "metadata": {},
   "source": [
    "## 2.To read and display the video using webcam\n",
    "hasframe,frame=cam.read()\n",
    "\n",
    "* hasframe- it tells weather the next frame is availabel or not (True or False)\n",
    "\n",
    "* frame - it gives the frame"
   ]
  },
  {
   "cell_type": "code",
   "execution_count": 4,
   "metadata": {},
   "outputs": [],
   "source": [
    "cam=cv2.VideoCapture(0)  # 0 for primary camera and 1 for secondary camera\n",
    "while True:\n",
    "    hasframe,frame=cam.read()\n",
    "    cv2.imshow('image',frame)\n",
    "    if cv2.waitKey(1)==13:  #if user press enter then exit from the loop\n",
    "        break\n",
    "cv2.destroyAllWindows()  #it close opened windows\n",
    "cam.release()   #it release the usage of camera "
   ]
  },
  {
   "cell_type": "markdown",
   "metadata": {},
   "source": [
    "## 3.Histogram \n",
    "cv2.calcHist(image,[channel],mask,[histsize],[range])\n",
    "\n",
    "* image - input image \n",
    "\n",
    "* channel - red,green or blue\n",
    "\n",
    "* mask - If we want to apply mask or not\n",
    "\n",
    "* histsize - size of an hist or bin\n",
    "\n",
    "* range - [starting range , ending range]"
   ]
  },
  {
   "cell_type": "code",
   "execution_count": 5,
   "metadata": {},
   "outputs": [
    {
     "data": {
      "text/plain": [
       "[<matplotlib.lines.Line2D at 0x13245ad7630>]"
      ]
     },
     "execution_count": 5,
     "metadata": {},
     "output_type": "execute_result"
    },
    {
     "data": {
      "image/png": "[encoded data removed]",
      "text/plain": [
       "<Figure size 432x288 with 1 Axes>"
      ]
     },
     "metadata": {
      "needs_background": "light"
     },
     "output_type": "display_data"
    }
   ],
   "source": [
    "img=cv2.imread('test.jpeg')\n",
    "a=cv2.calcHist(img,[0],None,[256],[0,256])\n",
    "plt.plot(a)"
   ]
  },
  {
   "cell_type": "markdown",
   "metadata": {},
   "source": [
    "### Using matplot library \n",
    "flatten_image=img.ravel() - it returns the array of image with single dimention\n",
    "\n",
    "plt.hist(flatten_image,bins,range)"
   ]
  },
  {
   "cell_type": "code",
   "execution_count": 6,
   "metadata": {},
   "outputs": [
    {
     "data": {
      "image/png": "[encoded data removed]",
      "text/plain": [
       "<Figure size 432x288 with 1 Axes>"
      ]
     },
     "metadata": {
      "needs_background": "light"
     },
     "output_type": "display_data"
    }
   ],
   "source": [
    "plt.hist(img.ravel(),256,[0,256])\n",
    "plt.show()   #used to display the image"
   ]
  },
  {
   "cell_type": "markdown",
   "metadata": {},
   "source": [
    "## 4.Shapes"
   ]
  },
  {
   "cell_type": "markdown",
   "metadata": {},
   "source": [
    "### To draw line\n",
    "cv2.line(image,starting_point,ending_point,color,thickness)\n",
    "\n",
    "* image - input image\n",
    "\n",
    "* starting_point-(x-value,y-value)\n",
    "\n",
    "* ending_point - (x-value,y-value)\n",
    "\n",
    "* color - (blue,green,red)\n",
    "* thickness"
   ]
  },
  {
   "cell_type": "code",
   "execution_count": 7,
   "metadata": {},
   "outputs": [],
   "source": [
    "image=np.zeros((512,512,3),np.uint8)\n",
    "cv2.line(image,(0,0),(512,512),(0,255,0),5) \n",
    "cv2.imshow('preview',image)\n",
    "cv2.waitKey(0)\n",
    "cv2.destroyAllWindows()"
   ]
  },
  {
   "cell_type": "markdown",
   "metadata": {},
   "source": [
    "### To draw rectangle\n",
    "cv2.rectangle(image,point1,point2,color,thickness)\n",
    "* imgae - input image\n",
    "* point1 - top left corner point (x-value,y-value)\n",
    "* point2 - bottom right point (x-value,y-value)\n",
    "* color - (blue,green,red)\n",
    "* thickness"
   ]
  },
  {
   "cell_type": "code",
   "execution_count": 8,
   "metadata": {},
   "outputs": [],
   "source": [
    "image=np.zeros((512,512,3),np.uint8)\n",
    "cv2.rectangle(image,(100,100),(300,300),(127,50,127),15)\n",
    "cv2.imshow('preview',image)\n",
    "cv2.waitKey(0)\n",
    "cv2.destroyAllWindows()"
   ]
  },
  {
   "cell_type": "markdown",
   "metadata": {},
   "source": [
    "### To draw circle\n",
    "cv2.circle(image,center,radius,color,thickness)\n",
    "* image - input image\n",
    "* center - center of the circle (x-value,y-value)\n",
    "* radius - radius of the circle\n",
    "* color - (blue,green,red)\n",
    "* thickness"
   ]
  },
  {
   "cell_type": "code",
   "execution_count": 9,
   "metadata": {},
   "outputs": [],
   "source": [
    "image=np.zeros((512,512,3),np.uint8)\n",
    "cv2.circle(image,(100,100),50,(255,123,123),-1)#image,center point, radius,colour,thickness\n",
    "cv2.imshow('preview',image)\n",
    "cv2.waitKey(0)\n",
    "cv2.destroyAllWindows()"
   ]
  },
  {
   "cell_type": "markdown",
   "metadata": {},
   "source": [
    "### To put text on a image\n",
    "cv2.putText(image,text,starting_point,Font,Font-size,color,thickness)\n",
    "* image - input image\n",
    "* text - in string format\n",
    "* starting point - bottom left of the text (x-value,y-value)\n",
    "* Font \n",
    "* Font_size\n",
    "* color\n",
    "* thickness"
   ]
  },
  {
   "cell_type": "code",
   "execution_count": 10,
   "metadata": {},
   "outputs": [],
   "source": [
    "image=np.zeros((512,512,3),np.uint8)\n",
    "cv2.putText(image,'Hello',(300,300),cv2.FONT_HERSHEY_COMPLEX,2,(123,123,123),3)\n",
    "cv2.imshow('preview',image)     #image,text,starting_bottom_left,Font,Font_size,color,thickness\n",
    "cv2.waitKey(0)\n",
    "cv2.destroyAllWindows()"
   ]
  },
  {
   "cell_type": "markdown",
   "metadata": {},
   "source": [
    "## 5.Translation\n",
    "Translation means moving the image.\n",
    "cv2.warpAffine(image,matrix,shape)\n",
    "* image - input image\n",
    "* matrix  \n",
    "          1 0 Tx\n",
    "          0 1 Ty\n",
    " * Tx - how much shift along x-axis\n",
    " * Ty - how much shift along y-axis\n",
    "* shape-(height,width) of a input image"
   ]
  },
  {
   "cell_type": "code",
   "execution_count": 11,
   "metadata": {},
   "outputs": [],
   "source": [
    "img=cv2.imread('test.jpeg')\n",
    "height,width=img.shape[:2]\n",
    "Ty,Tx=height/4,width/4"
   ]
  },
  {
   "cell_type": "code",
   "execution_count": 12,
   "metadata": {},
   "outputs": [],
   "source": [
    "T=np.float32([[1,0,Tx],[0,1,Ty]])"
   ]
  },
  {
   "cell_type": "code",
   "execution_count": 13,
   "metadata": {},
   "outputs": [
    {
     "data": {
      "text/plain": [
       "array([[  1.  ,   0.  ,  97.75],\n",
       "       [  0.  ,   1.  , 167.5 ]], dtype=float32)"
      ]
     },
     "execution_count": 13,
     "metadata": {},
     "output_type": "execute_result"
    }
   ],
   "source": [
    "T"
   ]
  },
  {
   "cell_type": "code",
   "execution_count": 14,
   "metadata": {},
   "outputs": [],
   "source": [
    "t_image=cv2.warpAffine(img,T,(height,width))"
   ]
  },
  {
   "cell_type": "code",
   "execution_count": 15,
   "metadata": {},
   "outputs": [],
   "source": [
    "cv2.imshow('transformed image',t_image)\n",
    "cv2.imshow('Original image',img)\n",
    "cv2.waitKey(0)\n",
    "cv2.destroyAllWindows()"
   ]
  },
  {
   "cell_type": "markdown",
   "metadata": {},
   "source": [
    "## 6.Rotation \n",
    "cv2.getRotationMatrix2D(center,angle,scale)\n",
    "* center - center of the image with respect to that point rotation occurs\n",
    "* angle - angle of rotation\n",
    "* scale - basically what it does is zooming"
   ]
  },
  {
   "cell_type": "code",
   "execution_count": 16,
   "metadata": {},
   "outputs": [],
   "source": [
    "img=cv2.imread('test.jpeg')\n",
    "height,width=img.shape[:2]"
   ]
  },
  {
   "cell_type": "code",
   "execution_count": 17,
   "metadata": {},
   "outputs": [],
   "source": [
    "T=cv2.getRotationMatrix2D((height/4,width/4),90,1)"
   ]
  },
  {
   "cell_type": "code",
   "execution_count": 18,
   "metadata": {},
   "outputs": [],
   "source": [
    "t_image=cv2.warpAffine(img,T,(height,width))\n",
    "cv2.imshow('transformed image',t_image)\n",
    "cv2.imshow('Original image',img)\n",
    "cv2.waitKey(0)\n",
    "cv2.destroyAllWindows()"
   ]
  },
  {
   "cell_type": "markdown",
   "metadata": {},
   "source": [
    "## 7.Resizing\n",
    "cv2.resize(image,dsize,fx,fy,interpolation)\n",
    "* image - input image\n",
    "* dsize - (x-resolution,y-resolution)\n",
    "* fx - it reduse horizontal pixels (0.5 means 50 percenatge)\n",
    "* fy - it reduse vertical pixels\n",
    "* interpolation - rezing method\n",
    " * cv2.INTER_AREA - good for shrinking or down sampling\n",
    " * cv2.INTER_NEAREST - Fastest \n",
    " * cv2.INTER_LINEAR - Good for zooming and up sampling\n",
    " * cv2.INTER_CUBIC - Better\n",
    " * cv2.INTER_LANCZOS4 - Best"
   ]
  },
  {
   "cell_type": "code",
   "execution_count": 19,
   "metadata": {},
   "outputs": [],
   "source": [
    "# remove the command run to understand\n",
    "img=cv2.imread('test.jpeg')\n",
    "cv2.imshow('Original',img)\n",
    "#img=cv2.resize(img,dsize=(1024,1024))                        #it resize with own dimention\n",
    "#img=cv2.resize(img,dsize=None,fx=1,fy=1)                     #it gives original image\n",
    "#img=cv2.resize(img,dsize=None,fx=0.5,fy=0.5)                 #it reduse size by half\n",
    "img=cv2.resize(img,dsize=None,fx=0.5,fy=0.5,interpolation=cv2.INTER_AREA)  \n",
    "cv2.imshow('transformed',img)\n",
    "cv2.waitKey(0)\n",
    "cv2.destroyAllWindows()"
   ]
  },
  {
   "cell_type": "code",
   "execution_count": 20,
   "metadata": {},
   "outputs": [],
   "source": [
    "img=cv2.imread('test.jpeg')\n",
    "cv2.imshow('Original',img)\n",
    "#img=cv2.pyrDown(img)            #reduse the image size by half\n",
    "img=cv2.pyrUp(img)               #increase the image size by half\n",
    "cv2.imshow('transformed',img)\n",
    "cv2.waitKey(0)\n",
    "cv2.destroyAllWindows()"
   ]
  },
  {
   "cell_type": "markdown",
   "metadata": {},
   "source": [
    "## 8.Non Affine Transform \n",
    "Non Affine Transform does not preserve parallelism,length and angle\n",
    "\n",
    "M=cv2.getPerspectiveTransform(source_point,des_point)\n",
    "* source_point - region selected from the original image\n",
    "* des_point - selected region is saved with in des_point\n",
    "\n",
    "cv2.warpPerspective(image,M,dsize)\n",
    "* image - input image size\n",
    "* M - matrix\n",
    "* dsize - output image size"
   ]
  },
  {
   "cell_type": "code",
   "execution_count": 21,
   "metadata": {},
   "outputs": [
    {
     "data": {
      "text/plain": [
       "array([[ 8.00239600e-01,  7.68379944e-02, -6.73494391e+01],\n",
       "       [ 3.12233663e-02,  8.61764909e-01, -7.56229931e+01],\n",
       "       [ 1.44460943e-04,  4.24326941e-04,  1.00000000e+00]])"
      ]
     },
     "execution_count": 21,
     "metadata": {},
     "output_type": "execute_result"
    }
   ],
   "source": [
    "img=cv2.imread('test.jpeg')\n",
    "cv2.imshow('Original',img)\n",
    "pts1 = np.float32([[76,85],[490,70],[520,520],[35,512]])\n",
    "pts2 = np.float32([[0,0],[300,0],[300,300], [0,300]])\n",
    "\n",
    "M=cv2.getPerspectiveTransform(pts1,pts2)\n",
    "image=cv2.warpPerspective(img,M,(420,420))## output image size\n",
    "cv2.imshow('transformed',image)\n",
    "cv2.waitKey(0)\n",
    "cv2.destroyAllWindows()\n",
    "M                        "
   ]
  },
  {
   "cell_type": "markdown",
   "metadata": {},
   "source": [
    "### Convert BGR image to Gray scale image\n",
    "\n",
    "cv2.cvtColor(image,cv2.COLOR_BGR2GRAY)"
   ]
  },
  {
   "cell_type": "code",
   "execution_count": 22,
   "metadata": {},
   "outputs": [],
   "source": [
    "image=cv2.imread('test.jpeg')\n",
    "image=cv2.cvtColor(image,cv2.COLOR_BGR2GRAY)\n",
    "cv2.imshow('preview',image)\n",
    "cv2.waitKey(0)\n",
    "cv2.destroyAllWindows()\n",
    "\n"
   ]
  },
  {
   "cell_type": "markdown",
   "metadata": {},
   "source": [
    "## 9.Arithmetic operation \n",
    "Before doing arithmetic operation three condition must be satisfied \n",
    "1. Dimention of two images must be equal\n",
    "2. Number of channels must be same\n",
    "3. Pixel datatype is also need to be same\n",
    "\n",
    "Both Addition and multiplication increases brightness.Substration and Division decreases brightness"
   ]
  },
  {
   "cell_type": "code",
   "execution_count": 23,
   "metadata": {},
   "outputs": [],
   "source": [
    "image=cv2.imread('test.jpeg')\n",
    "image=cv2.cvtColor(image,cv2.COLOR_BGR2GRAY)\n",
    "cv2.imshow('preview',image)\n",
    "img=np.ones((670,391),order=np.uint8) *200\n",
    "img1=np.ones((670,391),order=np.uint8) *2\n",
    "img=img.astype('uint8')\n",
    "img1=img1.astype('uint8')\n",
    "\n",
    "\n",
    "#res=cv2.add(image,img)\n",
    "#res=cv2.subtract(image,img)\n",
    "#res=cv2.multiply(image,img1)\n",
    "res=cv2.divide(image,img1)\n",
    "\n",
    "\n",
    "cv2.imshow('after performing operation',res)\n",
    "cv2.waitKey()\n",
    "cv2.destroyAllWindows()"
   ]
  },
  {
   "cell_type": "markdown",
   "metadata": {},
   "source": [
    "## 10.Bitwise operation\n",
    "It perform bitwise operation in every pixels in the image. In case of xor if both pixel value is **same** then result is **zero** and if pixel values are **different** and the result is **one** ."
   ]
  },
  {
   "cell_type": "raw",
   "metadata": {},
   "source": [
    "# If we want good result then use black and white images\n",
    "cv2.bitwise_and(image1,image2)\n",
    "cv2.bitwise_not(image)\n",
    "cv2.bitwise_or(image1,image2)\n",
    "cv2.bitwise_xor(image1,image2)"
   ]
  },
  {
   "cell_type": "markdown",
   "metadata": {},
   "source": [
    "## 11.Blurring \n",
    "Blurring reduse the sharp edges in the image\n",
    "\n",
    "cv2.filter2D(image,ddepth,kernel)\n",
    "* image - input image\n",
    "* ddepth - represent the depth of the output image\n",
    "* kernel - represent the convolution kernel"
   ]
  },
  {
   "cell_type": "code",
   "execution_count": 24,
   "metadata": {},
   "outputs": [],
   "source": [
    "# Blurring by applying own filter\n",
    "img=cv2.imread('test.jpeg')\n",
    "kernel=np.ones((7,7),np.float32)/49\n",
    "img1=cv2.filter2D(img,-1,kernel)\n",
    "cv2.imshow('original',img)\n",
    "cv2.imshow('blured',img1)\n",
    "cv2.waitKey(0)\n",
    "cv2.destroyAllWindows()"
   ]
  },
  {
   "cell_type": "markdown",
   "metadata": {},
   "source": [
    "### Type of Filters and blurring\n",
    "* Average blurring\n",
    "* Gaussian blurring\n",
    "* Median blurring\n",
    "* Bilateral filter\n",
    "* Box filter\n",
    "* SQRbox filter\n",
    "\n",
    "For clear explation click  [here](https://www.tutorialspoint.com/opencv/opencv_blur_averaging.htm)"
   ]
  },
  {
   "cell_type": "code",
   "execution_count": 25,
   "metadata": {},
   "outputs": [],
   "source": [
    "img=cv2.imread('test.jpeg')\n",
    "\n",
    "#img1=cv2.blur(img,(3,3))              #average blur\n",
    "#img1=cv2.GaussianBlur(img,(7,7),0)    #gaussian blur\n",
    "#img1=cv2.medianBlur(img,5)            #median blur\n",
    "img1=cv2.bilateralFilter(img,9,75,75)  #sutable for noice removal\n",
    "\n",
    "cv2.imshow('original',img)\n",
    "cv2.imshow('blured',img1)\n",
    "cv2.waitKey(0)\n",
    "cv2.destroyAllWindows()"
   ]
  },
  {
   "cell_type": "markdown",
   "metadata": {},
   "source": [
    "## 12.Sharpening\n",
    "Sharpening is opposite to blurring.\n",
    "\n",
    "Kernel for sharpening is \n",
    "                        \n",
    "                 -1 -1 -1                      \n",
    "                 -1  9 -1                        \n",
    "                 -1 -1 -1"
   ]
  },
  {
   "cell_type": "code",
   "execution_count": 26,
   "metadata": {},
   "outputs": [],
   "source": [
    "img=cv2.imread('test.jpeg')\n",
    "kernel=np.array([[-1,-1,-1],[-1,9,-1],[-1,-1,-1]])\n",
    "img1=cv2.filter2D(img,-1,kernel)\n",
    "cv2.imshow('box',img1)\n",
    "cv2.waitKey(10000)\n",
    "cv2.destroyAllWindows()"
   ]
  },
  {
   "cell_type": "markdown",
   "metadata": {},
   "source": [
    "## 13.Thresholding\n",
    "Thresholding means convert a image into binary image that is image having the only pixel value of **zero** and **one**.\n",
    "Before applying thresholding we need to convert the image into gray scale image.\n",
    "\n",
    "cv2.threshold(image,threshold,maxvalue,mode)\n",
    "* image - input image\n",
    "* threshold - below this value is going to zero and above this value is going to one\n",
    "* maxvalue - maximum value we want to apply threshold\n",
    "* mode - different mode of applying threshold\n",
    " * cv2.THRESH_BINARY\n",
    " * cv2.THRESH_BINARY_INV\n",
    " * cv2.THRESH_MASK\n",
    " * cv2.THRESH_OTSU\n",
    " * cv2.THRESH_TOZERO\n",
    " * cv2.THRESH_TOZERO_INV\n",
    " * cv2.THRESH_TRIANGLE\n",
    " * cv2.THRESH_TRUNC\n"
   ]
  },
  {
   "cell_type": "code",
   "execution_count": 27,
   "metadata": {},
   "outputs": [],
   "source": [
    "img=cv2.imread('test.jpeg')\n",
    "img=cv2.cvtColor(img,cv2.COLOR_BGR2GRAY)\n",
    "\n",
    "img1=cv2.threshold(img,127,255,cv2.THRESH_BINARY)\n",
    "\n",
    "cv2.imshow('image',img1[1])\n",
    "cv2.waitKey(10000)\n",
    "cv2.destroyAllWindows()"
   ]
  },
  {
   "cell_type": "markdown",
   "metadata": {},
   "source": [
    "## 14.Dilation and Erosion\n",
    "* Dilation means size of an object in white shade or bright shade increases, while the size of an object in black shade or dark shade decreases.\n",
    "* Erosion means the size of an object in dark shade or black shade increases, while it decreases in white shade or bright shade.\n",
    "* cv2.erode(image,kernel,iterations)\n",
    "* cv2.dilate(image,kernel,iterations)\n",
    " * image - input image\n",
    " * kernel - convolution kernel\n",
    " * iterations - number of iteration we want to do\n",
    "* Increase or decrease the kernel size to see the difference"
   ]
  },
  {
   "cell_type": "code",
   "execution_count": 28,
   "metadata": {},
   "outputs": [],
   "source": [
    "img=cv2.imread('test.jpeg')\n",
    "kernel=np.ones((9,9),np.uint8)    \n",
    "\n",
    "img1=cv2.erode(img,kernel,iterations=1)\n",
    "#img1=cv2.dilate(img,kernel,iterations=1)\n",
    "\n",
    "cv2.imshow('image',img1)\n",
    "cv2.imshow('original',img)\n",
    "cv2.waitKey(0)\n",
    "cv2.destroyAllWindows()"
   ]
  },
  {
   "cell_type": "markdown",
   "metadata": {},
   "source": [
    "## Edge Detection algorithms \n",
    "Most comman edge detection algorithms are\n",
    "* Sobel\n",
    "* Laplacian\n",
    "* Canny\n",
    "\n",
    "For Sobel and Laplacian we need to perform gray acale and thresholding operation before applying the filter. For canny no needed\n"
   ]
  },
  {
   "cell_type": "markdown",
   "metadata": {},
   "source": [
    "### Sobel Edge Detection"
   ]
  },
  {
   "cell_type": "code",
   "execution_count": 29,
   "metadata": {},
   "outputs": [],
   "source": [
    "#Sobel Edge Detection \n",
    "img1=cv2.imread('testimage1.jpg')\n",
    "img=cv2.cvtColor(img1,cv2.COLOR_BGR2GRAY)                  \n",
    "res,img=cv2.threshold(img,127,255,cv2.THRESH_BINARY)\n",
    "\n",
    "sobel_x=cv2.Sobel(img,6,0,1,ksize=5)  # This give horizontal edges in the image\n",
    "sobel_y=cv2.Sobel(img,6,1,0,ksize=5)  # This give vertical edges in the image\n",
    "sobel=cv2.bitwise_or(sobel_x,sobel_y) # This combine both edges\n",
    "\n",
    "cv2.imshow('Combine',sobel)\n",
    "cv2.imshow('vertical',sobel_y)\n",
    "cv2.imshow('horizontal',sobel_x)\n",
    "cv2.imshow('original',img1)\n",
    "cv2.waitKey(0)\n",
    "cv2.destroyAllWindows()"
   ]
  },
  {
   "cell_type": "markdown",
   "metadata": {},
   "source": [
    "### Canny Edge Detection"
   ]
  },
  {
   "cell_type": "code",
   "execution_count": 30,
   "metadata": {},
   "outputs": [],
   "source": [
    "# Canny Edge Detection\n",
    "img=cv2.imread('testimage1.jpg')\n",
    "canny=cv2.Canny(img,100,200)\n",
    "cv2.imshow('canny',canny)\n",
    "cv2.waitKey(0)\n",
    "cv2.destroyAllWindows()"
   ]
  },
  {
   "cell_type": "markdown",
   "metadata": {},
   "source": [
    "### Laplacian Edge Detection"
   ]
  },
  {
   "cell_type": "code",
   "execution_count": 31,
   "metadata": {},
   "outputs": [],
   "source": [
    "# Laplacian Edge Detection\n",
    "img=cv2.imread('testimage1.jpg')\n",
    "\n",
    "img=cv2.cvtColor(img,cv2.COLOR_BGR2GRAY)\n",
    "res,img=cv2.threshold(img,127,255,cv2.THRESH_BINARY)\n",
    "\n",
    "laplacian=cv2.Laplacian(img,cv2.CV_64F)\n",
    "\n",
    "\n",
    "cv2.imshow('filter',laplacian)\n",
    "cv2.waitKey(0)\n",
    "cv2.destroyAllWindows()"
   ]
  },
  {
   "cell_type": "code",
   "execution_count": 32,
   "metadata": {},
   "outputs": [
    {
     "data": {
      "text/plain": [
       "6"
      ]
     },
     "execution_count": 32,
     "metadata": {},
     "output_type": "execute_result"
    }
   ],
   "source": [
    "cv2.CV_64F"
   ]
  },
  {
   "cell_type": "code",
   "execution_count": null,
   "metadata": {},
   "outputs": [],
   "source": []
  }
 ],
 "metadata": {
  "kernelspec": {
   "display_name": "Python 3",
   "language": "python",
   "name": "python3"
  },
  "language_info": {
   "codemirror_mode": {
    "name": "ipython",
    "version": 3
   },
   "file_extension": ".py",
   "mimetype": "text/x-python",
   "name": "python",
   "nbconvert_exporter": "python",
   "pygments_lexer": "ipython3",
   "version": "3.7.3"
  }
 },
 "nbformat": 4,
 "nbformat_minor": 2
}
